{
 "metadata": {
  "name": "",
  "signature": "sha256:1624a10a7a8952e3da0637ebd4d0a782b1efd27027b2b382f510c9fcc89218ca"
 },
 "nbformat": 3,
 "nbformat_minor": 0,
 "worksheets": [
  {
   "cells": [
    {
     "cell_type": "code",
     "collapsed": false,
     "input": [
      "import rasterio\n",
      "import numpy as np"
     ],
     "language": "python",
     "metadata": {},
     "outputs": [],
     "prompt_number": 18
    },
    {
     "cell_type": "code",
     "collapsed": false,
     "input": [
      "path = './dummy.asc'\n",
      "with open(path) as f:\n",
      "    for l in f:\n",
      "        print l,"
     ],
     "language": "python",
     "metadata": {},
     "outputs": [
      {
       "output_type": "stream",
       "stream": "stdout",
       "text": [
        "ncols         4\n",
        "nrows         5\n",
        "xllcorner     0.0\n",
        "yllcorner     0.0\n",
        "cellsize      1.0\n",
        "NODATA_value  -9999\n",
        "-9999 -9999   5  2\n",
        "-9999    20 100 36\n",
        "    3     8  35 10\n",
        "   32    42  50  6\n",
        "   88    75  27  9\n"
       ]
      }
     ],
     "prompt_number": 19
    },
    {
     "cell_type": "code",
     "collapsed": false,
     "input": [
      "ds = rasterio.open(path)\n",
      "out = np.ma.zeros((5,4), dtype=ds.dtypes[0])\n",
      "returned = ds.read_band(1, out=out, masked=True)"
     ],
     "language": "python",
     "metadata": {},
     "outputs": [],
     "prompt_number": 50
    },
    {
     "cell_type": "code",
     "collapsed": true,
     "input": [
      "out"
     ],
     "language": "python",
     "metadata": {},
     "outputs": [
      {
       "metadata": {},
       "output_type": "pyout",
       "prompt_number": 58,
       "text": [
        "masked_array(data =\n",
        " [[[-9999 -9999     5     2]\n",
        "  [-9999    20   100    36]\n",
        "  [    3     8    35    10]\n",
        "  [   32    42    50     6]\n",
        "  [   88    75    27     9]]],\n",
        "             mask =\n",
        " False,\n",
        "       fill_value = 999999)"
       ]
      }
     ],
     "prompt_number": 58
    },
    {
     "cell_type": "code",
     "collapsed": false,
     "input": [
      "returned"
     ],
     "language": "python",
     "metadata": {},
     "outputs": [
      {
       "metadata": {},
       "output_type": "pyout",
       "prompt_number": 52,
       "text": [
        "masked_array(data =\n",
        " [[-- -- 5 2]\n",
        " [-- 20 100 36]\n",
        " [3 8 35 10]\n",
        " [32 42 50 6]\n",
        " [88 75 27 9]],\n",
        "             mask =\n",
        " [[ True  True False False]\n",
        " [ True False False False]\n",
        " [False False False False]\n",
        " [False False False False]\n",
        " [False False False False]],\n",
        "       fill_value = -9999)"
       ]
      }
     ],
     "prompt_number": 52
    },
    {
     "cell_type": "code",
     "collapsed": false,
     "input": [
      "a = np.array([1.1,2.2,3.3,4.4,5.5,6.6,7.7,8.8])\n",
      "print np.around(a)\n",
      "out = np.zeros((8))\n",
      "print out\n",
      "result = np.around(a,out=out)\n",
      "print result\n",
      "print out"
     ],
     "language": "python",
     "metadata": {},
     "outputs": [
      {
       "output_type": "stream",
       "stream": "stdout",
       "text": [
        "[ 1.  2.  3.  4.  6.  7.  8.  9.]\n",
        "[ 0.  0.  0.  0.  0.  0.  0.  0.]\n",
        "[ 1.  2.  3.  4.  6.  7.  8.  9.]\n",
        "[ 1.  2.  3.  4.  6.  7.  8.  9.]\n"
       ]
      }
     ],
     "prompt_number": 32
    },
    {
     "cell_type": "code",
     "collapsed": false,
     "input": [
      "ma = np.ma.array([1,2,3])"
     ],
     "language": "python",
     "metadata": {},
     "outputs": [],
     "prompt_number": 54
    },
    {
     "cell_type": "code",
     "collapsed": false,
     "input": [
      "ma.fill_value = -9999\n",
      "ma"
     ],
     "language": "python",
     "metadata": {},
     "outputs": [
      {
       "metadata": {},
       "output_type": "pyout",
       "prompt_number": 57,
       "text": [
        "masked_array(data = [1 2 3],\n",
        "             mask = False,\n",
        "       fill_value = -9999)"
       ]
      }
     ],
     "prompt_number": 57
    },
    {
     "cell_type": "code",
     "collapsed": false,
     "input": [
      "out.mask = out == ma.fill_value"
     ],
     "language": "python",
     "metadata": {},
     "outputs": [],
     "prompt_number": 62
    },
    {
     "cell_type": "code",
     "collapsed": true,
     "input": [
      "import numpy as np\n",
      "\n",
      "a = np.ma.array([1, 2, 3, 4], mask=[True, False, False, True])\n",
      "b = np.ma.array([1, 2, 3, 4], mask=[False, True, False, True])\n",
      "\n",
      "# ufunc not in-place\n",
      "c = np.add(a, b)\n",
      "\n",
      "# object operator\n",
      "d = a + b \n",
      "\n",
      "# ufunc in_place\n",
      "np.add(a, b, out=a)\n",
      "\n",
      "print 'not in-place:\\n{}\\n{}\\n'.format(repr(c), c.data)\n",
      "print 'object operator:\\n{}\\n{}\\n'.format(repr(d), d.data)\n",
      "print 'in-place:\\n{}\\n{}\\n'.format(repr(a), a.data)"
     ],
     "language": "python",
     "metadata": {},
     "outputs": [
      {
       "output_type": "stream",
       "stream": "stdout",
       "text": [
        "not in-place:\n",
        "masked_array(data = [-- -- 6 --],\n",
        "             mask = [ True  True False  True],\n",
        "       fill_value = 999999)\n",
        "\n",
        "[2 4 6 8]\n",
        "\n",
        "object operator:\n",
        "masked_array(data = [-- -- 6 --],\n",
        "             mask = [ True  True False  True],\n",
        "       fill_value = 999999)\n",
        "\n",
        "[1 2 6 4]\n",
        "\n",
        "in-place:\n",
        "masked_array(data = [-- 4 6 --],\n",
        "             mask = [ True False False  True],\n",
        "       fill_value = 999999)\n",
        "\n",
        "[2 4 6 8]\n",
        "\n"
       ]
      }
     ],
     "prompt_number": 3
    },
    {
     "cell_type": "code",
     "collapsed": false,
     "input": [],
     "language": "python",
     "metadata": {},
     "outputs": [
      {
       "metadata": {},
       "output_type": "pyout",
       "prompt_number": 2,
       "text": [
        "masked_array(data = [-- 4 6 --],\n",
        "             mask = [ True False False  True],\n",
        "       fill_value = 999999)"
       ]
      }
     ],
     "prompt_number": 2
    },
    {
     "cell_type": "code",
     "collapsed": false,
     "input": [],
     "language": "python",
     "metadata": {},
     "outputs": []
    }
   ],
   "metadata": {}
  }
 ]
}
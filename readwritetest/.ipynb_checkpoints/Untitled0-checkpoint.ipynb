{
 "metadata": {
  "name": "",
  "signature": "sha256:85e70dfb78f4ce4f348a349e48e555f2815474b4f9ecc106fb0799acf7aad411"
 },
 "nbformat": 3,
 "nbformat_minor": 0,
 "worksheets": []
}
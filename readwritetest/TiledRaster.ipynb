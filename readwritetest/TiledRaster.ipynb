{
 "metadata": {
  "name": "",
  "signature": "sha256:2de5ab0b4650fcf32e6ecba2507d116ec98d41465ecd3c64c3de39c652dd623e"
 },
 "nbformat": 3,
 "nbformat_minor": 0,
 "worksheets": [
  {
   "cells": [
    {
     "cell_type": "code",
     "collapsed": false,
     "input": [
      "import rasterio\n",
      "import numpy as np\n",
      "import os"
     ],
     "language": "python",
     "metadata": {},
     "outputs": [],
     "prompt_number": 9
    },
    {
     "cell_type": "code",
     "collapsed": false,
     "input": [
      "vrtfile = '/Users/asger/Data/DHM/DSM_2014/DSM_605_68.vrt'"
     ],
     "language": "python",
     "metadata": {},
     "outputs": [],
     "prompt_number": 12
    },
    {
     "cell_type": "code",
     "collapsed": false,
     "input": [
      "import xml.etree.ElementTree as ET\n",
      "from affine import Affine\n",
      "\n",
      "def rect_to_win(rect):\n",
      "    rows = (int(rect['yOff']), int(rect['yOff']) + int(rect['ySize']))\n",
      "    cols = (int(rect['xOff']), int(rect['xOff']) + int(rect['xSize']))\n",
      "    return (rows, cols)\n",
      "\n",
      "def parse_vrt( filename ):\n",
      "    vrt = {\"shape\": None, \"bands\":[], \"srs\": \"\", \"transformation\": None, \"rootpath\": \"\", \"filename\": \"\"}\n",
      "    vrt[\"filename\"] = filename\n",
      "    vrt[\"rootpath\"] = os.path.dirname(filename)\n",
      "    \n",
      "    xmltree = ET.parse( filename )\n",
      "    xmlroot = xmltree.getroot()\n",
      "    vrt[\"shape\"] = (float(xmlroot.attrib['rasterYSize']), float(xmlroot.attrib['rasterXSize']))\n",
      "    \n",
      "    # Iterate over children of root\n",
      "    for rootchild in xmlroot:\n",
      "        if rootchild.tag == 'SRS':\n",
      "            vrt[\"srs\"] = rootchild.text\n",
      "        elif rootchild.tag == 'GeoTransform':\n",
      "            params = [float(f) for f in rootchild.text.split(',')]\n",
      "            vrt[\"transformation\"] = Affine( params[1], params[2], params[0], params[4], params[5], params[3] )\n",
      "        elif rootchild.tag == 'VRTRasterBand':\n",
      "            from rasterio import dtypes\n",
      "            if len(vrt[\"bands\"]) > 0:\n",
      "                raise Exception('Only single band supported for now')\n",
      "            band = { 'sources' : [] }\n",
      "            vrt[\"bands\"].append(band)\n",
      "            typename = rootchild.attrib['dataType']\n",
      "            band['dtype'] = dtypes.dtype_fwd[ dtypes.dtype_rev[typename.lower()] ]\n",
      "            for bandchild in rootchild:\n",
      "                if bandchild.tag in ['ColorInterp', 'Histograms']:\n",
      "                    continue\n",
      "                elif bandchild.tag == 'NoDataValue':\n",
      "                    band['nodata'] = float( bandchild.text )\n",
      "                elif bandchild.tag == 'ComplexSource':\n",
      "                    complexSource = {'sourcetype': 'ComplexSource'}\n",
      "                    band['sources'].append( complexSource )\n",
      "                    for sourcechild in bandchild:\n",
      "                        if sourcechild.tag == 'SourceFilename':\n",
      "                            complexSource['sourcefile'] = {\n",
      "                                'filename': sourcechild.text, \n",
      "                                'relative': sourcechild.get('relativeToVRT') == '1'}\n",
      "                        elif sourcechild.tag == 'SourceBand' :\n",
      "                            complexSource['sourceband']= int( sourcechild.text )\n",
      "                        elif sourcechild.tag == 'SrcRect':\n",
      "                            complexSource['srcwin'] = rect_to_win(sourcechild.attrib) \n",
      "                        elif sourcechild.tag == 'DstRect':\n",
      "                            complexSource['dstwin'] = rect_to_win(sourcechild.attrib)\n",
      "                        elif sourcechild.tag == 'NODATA':                        \n",
      "                            complexSource['nodata'] = float( sourcechild.text )\n",
      "    return vrt\n",
      "                        "
     ],
     "language": "python",
     "metadata": {},
     "outputs": [],
     "prompt_number": 32
    },
    {
     "cell_type": "code",
     "collapsed": false,
     "input": [
      "class TiledRaster():\n",
      "    def __init__(self,vrtfile):\n",
      "        self.vrt = parse_vrt(vrtfile)\n",
      "        self.vrtfile = self.vrt['filename']\n",
      "        self.shape = self.vrt['shape']\n",
      "        self.basepath = self.vrt['rootpath']\n",
      "        \n",
      "    def tiles(self, bandnumber = 1):\n",
      "        for t in self.vrt['bands'][bandnumber - 1]['sources']:\n",
      "            yield t\n",
      "    \n",
      "    def get_tile_file(self, tile):\n",
      "        src = tile['sourcefile'] \n",
      "        filename = src['filename']\n",
      "        if src['relative']:\n",
      "            filename = os.path.join(self.basepath, filename)\n",
      "        return filename\n",
      "    \n",
      "    def read_tile_buffered(self, tile, bufferpixels, masked=None):\n",
      "        \"\"\"Returns ( numpyarray, tiledata_window)\n",
      "        tiledatawindow is a window indicating which part of the numpy array stems from the tile\"\"\"\n",
      "        bufferinfo = self._adjust_buffer(tile, bufferpixels)\n",
      "        win = self._expand_window(tile, bufferinfo)\n",
      "        tile_data_window = self._unbuffered_window(tile, bufferinfo)\n",
      "        with rasterio.open(self.vrtfile, mode='r') as f:\n",
      "            data = f.read_band(1, window=win, masked=masked)\n",
      "        return data, tile_data_window\n",
      "        \n",
      "    def _adjust_buffer(self, tile, bufferpixels):\n",
      "        \"\"\"Adjust left/top/right/bottom buffer to stay within vrt bounds\"\"\"\n",
      "        left = top = right = bottom = bufferpixels\n",
      "        dstwin = tile['dstwin']\n",
      "        if dstwin[1][0] - bufferpixels < 0:\n",
      "            left = dstwin[1][0]\n",
      "        if dstwin[0][0] - bufferpixels < 0:\n",
      "            top = dstwin[0][0]\n",
      "        if dstwin[1][1] + bufferpixels > self.shape[1]:\n",
      "            right = self.shape[1] - dstwin[1][1]\n",
      "        if dstwin[0][1] + bufferpixels > self.shape[0]:\n",
      "            bottom = self.shape[0] - dstwin[0][1]\n",
      "        return (left, top, right, bottom)\n",
      "    \n",
      "    def _expand_window(self, tile, bufferinfo):\n",
      "        \"\"\"Expands a window by bufferinfo\"\"\"\n",
      "        window = tile['dstwin']\n",
      "        rows = ( window[0][0] - bufferinfo[1], window[0][1] + bufferinfo[3] )\n",
      "        cols = ( window[1][0] - bufferinfo[0], window[1][1] + bufferinfo[2] )\n",
      "        return (rows, cols)\n",
      "    \n",
      "    def _unbuffered_window(self, tile, bufferinfo):\n",
      "        \"\"\" Takes a buffered window and bufferinfo and calculates indices for the unbuffered data\"\"\"\n",
      "        window = tile['dstwin']\n",
      "        winshape = [ end - start for start, end in window ]\n",
      "        return ((bufferinfo[1], winshape[0] - bufferinfo[3]),(bufferinfo[0], winshape[1] - bufferinfo[2]))"
     ],
     "language": "python",
     "metadata": {},
     "outputs": [],
     "prompt_number": 79
    },
    {
     "cell_type": "code",
     "collapsed": false,
     "input": [
      "tr = TiledRaster(vrtfile)\n",
      "tile = [ t for t in tr.tiles() if 'dsm_1km_6055_689.tif' in t['sourcefile']['filename'] ][0]\n",
      "print tile\n",
      "bufferinfo = tr._adjust_buffer(tile, 10)\n",
      "print bufferinfo\n",
      "expanded_window = tr._expand_window(tile, bufferinfo)\n",
      "print expanded_window\n",
      "unbuf = tr._unbuffered_window(tile, bufferinfo)\n",
      "print unbuf"
     ],
     "language": "python",
     "metadata": {},
     "outputs": [
      {
       "output_type": "stream",
       "stream": "stdout",
       "text": [
        "{'sourcetype': 'ComplexSource', 'srcwin': ((0, 2500), (0, 2500)), 'sourcefile': {'relative': True, 'filename': 'DSM_605_68_TIF_UTM32-ETRS89/dsm_1km_6055_689.tif'}, 'dstwin': ((10000, 12500), (22500, 25000)), 'sourceband': 1, 'nodata': -9999.0}\n",
        "(10, 10, 0.0, 10)\n",
        "((9990, 12510), (22490, 25000.0))\n",
        "((10, 2490), (10, 2500.0))\n"
       ]
      }
     ],
     "prompt_number": 81
    },
    {
     "cell_type": "code",
     "collapsed": false,
     "input": [
      "data, win = tr.read_tile_buffered(tile, 10, masked=True)"
     ],
     "language": "python",
     "metadata": {},
     "outputs": [],
     "prompt_number": 82
    },
    {
     "cell_type": "code",
     "collapsed": false,
     "input": [
      "data"
     ],
     "language": "python",
     "metadata": {},
     "outputs": [
      {
       "metadata": {},
       "output_type": "pyout",
       "prompt_number": 83,
       "text": [
        "masked_array(data =\n",
        " [[ 2.35071087  2.32748556  2.31290698 ...,  4.36390114  5.6388669\n",
        "   5.25279999]\n",
        " [ 2.34498763  2.33384609  2.33390045 ...,  4.67028189  4.01992226\n",
        "   4.22879982]\n",
        " [ 2.36370325  2.36135387  2.34420419 ...,  4.34113312  3.45245767\n",
        "   3.18720365]\n",
        " ..., \n",
        " [ 4.83269167  4.82080984  4.82189465 ..., -0.1608575  -0.15683722\n",
        "  -0.15000001]\n",
        " [ 4.84731293  4.82314205  4.81542635 ..., -0.16       -0.16       -0.1495966 ]\n",
        " [ 4.84875441  4.83501101  4.81044436 ..., -0.15561403 -0.15577827\n",
        "  -0.15669918]],\n",
        "             mask =\n",
        " False,\n",
        "       fill_value = -9999.0)"
       ]
      }
     ],
     "prompt_number": 83
    },
    {
     "cell_type": "code",
     "collapsed": false,
     "input": [
      "win"
     ],
     "language": "python",
     "metadata": {},
     "outputs": [
      {
       "metadata": {},
       "output_type": "pyout",
       "prompt_number": 84,
       "text": [
        "((10, 2490), (10, 2500.0))"
       ]
      }
     ],
     "prompt_number": 84
    },
    {
     "cell_type": "code",
     "collapsed": false,
     "input": [],
     "language": "python",
     "metadata": {},
     "outputs": []
    }
   ],
   "metadata": {}
  }
 ]
}